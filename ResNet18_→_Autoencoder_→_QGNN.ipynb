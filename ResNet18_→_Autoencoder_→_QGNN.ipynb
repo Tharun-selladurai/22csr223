{
  "nbformat": 4,
  "nbformat_minor": 0,
  "metadata": {
    "colab": {
      "provenance": [],
      "include_colab_link": true
    },
    "kernelspec": {
      "name": "python3",
      "display_name": "Python 3"
    },
    "language_info": {
      "name": "python"
    }
  },
  "cells": [
    {
      "cell_type": "markdown",
      "metadata": {
        "id": "view-in-github",
        "colab_type": "text"
      },
      "source": [
        "<a href=\"https://colab.research.google.com/github/Tharun-selladurai/22csr223/blob/master/ResNet18_%E2%86%92_Autoencoder_%E2%86%92_QGNN.ipynb\" target=\"_parent\"><img src=\"https://colab.research.google.com/assets/colab-badge.svg\" alt=\"Open In Colab\"/></a>"
      ]
    },
    {
      "cell_type": "code",
      "execution_count": 3,
      "metadata": {
        "colab": {
          "base_uri": "https://localhost:8080/",
          "height": 110
        },
        "id": "WCajPXf_LITU",
        "outputId": "e54a7564-eb73-417d-b830-d7fbba473f76"
      },
      "outputs": [
        {
          "output_type": "display_data",
          "data": {
            "text/plain": [
              "<IPython.core.display.HTML object>"
            ],
            "text/html": [
              "\n",
              "     <input type=\"file\" id=\"files-5168aa22-3476-481d-bccf-46e572df7386\" name=\"files[]\" multiple disabled\n",
              "        style=\"border:none\" />\n",
              "     <output id=\"result-5168aa22-3476-481d-bccf-46e572df7386\">\n",
              "      Upload widget is only available when the cell has been executed in the\n",
              "      current browser session. Please rerun this cell to enable.\n",
              "      </output>\n",
              "      <script>// Copyright 2017 Google LLC\n",
              "//\n",
              "// Licensed under the Apache License, Version 2.0 (the \"License\");\n",
              "// you may not use this file except in compliance with the License.\n",
              "// You may obtain a copy of the License at\n",
              "//\n",
              "//      http://www.apache.org/licenses/LICENSE-2.0\n",
              "//\n",
              "// Unless required by applicable law or agreed to in writing, software\n",
              "// distributed under the License is distributed on an \"AS IS\" BASIS,\n",
              "// WITHOUT WARRANTIES OR CONDITIONS OF ANY KIND, either express or implied.\n",
              "// See the License for the specific language governing permissions and\n",
              "// limitations under the License.\n",
              "\n",
              "/**\n",
              " * @fileoverview Helpers for google.colab Python module.\n",
              " */\n",
              "(function(scope) {\n",
              "function span(text, styleAttributes = {}) {\n",
              "  const element = document.createElement('span');\n",
              "  element.textContent = text;\n",
              "  for (const key of Object.keys(styleAttributes)) {\n",
              "    element.style[key] = styleAttributes[key];\n",
              "  }\n",
              "  return element;\n",
              "}\n",
              "\n",
              "// Max number of bytes which will be uploaded at a time.\n",
              "const MAX_PAYLOAD_SIZE = 100 * 1024;\n",
              "\n",
              "function _uploadFiles(inputId, outputId) {\n",
              "  const steps = uploadFilesStep(inputId, outputId);\n",
              "  const outputElement = document.getElementById(outputId);\n",
              "  // Cache steps on the outputElement to make it available for the next call\n",
              "  // to uploadFilesContinue from Python.\n",
              "  outputElement.steps = steps;\n",
              "\n",
              "  return _uploadFilesContinue(outputId);\n",
              "}\n",
              "\n",
              "// This is roughly an async generator (not supported in the browser yet),\n",
              "// where there are multiple asynchronous steps and the Python side is going\n",
              "// to poll for completion of each step.\n",
              "// This uses a Promise to block the python side on completion of each step,\n",
              "// then passes the result of the previous step as the input to the next step.\n",
              "function _uploadFilesContinue(outputId) {\n",
              "  const outputElement = document.getElementById(outputId);\n",
              "  const steps = outputElement.steps;\n",
              "\n",
              "  const next = steps.next(outputElement.lastPromiseValue);\n",
              "  return Promise.resolve(next.value.promise).then((value) => {\n",
              "    // Cache the last promise value to make it available to the next\n",
              "    // step of the generator.\n",
              "    outputElement.lastPromiseValue = value;\n",
              "    return next.value.response;\n",
              "  });\n",
              "}\n",
              "\n",
              "/**\n",
              " * Generator function which is called between each async step of the upload\n",
              " * process.\n",
              " * @param {string} inputId Element ID of the input file picker element.\n",
              " * @param {string} outputId Element ID of the output display.\n",
              " * @return {!Iterable<!Object>} Iterable of next steps.\n",
              " */\n",
              "function* uploadFilesStep(inputId, outputId) {\n",
              "  const inputElement = document.getElementById(inputId);\n",
              "  inputElement.disabled = false;\n",
              "\n",
              "  const outputElement = document.getElementById(outputId);\n",
              "  outputElement.innerHTML = '';\n",
              "\n",
              "  const pickedPromise = new Promise((resolve) => {\n",
              "    inputElement.addEventListener('change', (e) => {\n",
              "      resolve(e.target.files);\n",
              "    });\n",
              "  });\n",
              "\n",
              "  const cancel = document.createElement('button');\n",
              "  inputElement.parentElement.appendChild(cancel);\n",
              "  cancel.textContent = 'Cancel upload';\n",
              "  const cancelPromise = new Promise((resolve) => {\n",
              "    cancel.onclick = () => {\n",
              "      resolve(null);\n",
              "    };\n",
              "  });\n",
              "\n",
              "  // Wait for the user to pick the files.\n",
              "  const files = yield {\n",
              "    promise: Promise.race([pickedPromise, cancelPromise]),\n",
              "    response: {\n",
              "      action: 'starting',\n",
              "    }\n",
              "  };\n",
              "\n",
              "  cancel.remove();\n",
              "\n",
              "  // Disable the input element since further picks are not allowed.\n",
              "  inputElement.disabled = true;\n",
              "\n",
              "  if (!files) {\n",
              "    return {\n",
              "      response: {\n",
              "        action: 'complete',\n",
              "      }\n",
              "    };\n",
              "  }\n",
              "\n",
              "  for (const file of files) {\n",
              "    const li = document.createElement('li');\n",
              "    li.append(span(file.name, {fontWeight: 'bold'}));\n",
              "    li.append(span(\n",
              "        `(${file.type || 'n/a'}) - ${file.size} bytes, ` +\n",
              "        `last modified: ${\n",
              "            file.lastModifiedDate ? file.lastModifiedDate.toLocaleDateString() :\n",
              "                                    'n/a'} - `));\n",
              "    const percent = span('0% done');\n",
              "    li.appendChild(percent);\n",
              "\n",
              "    outputElement.appendChild(li);\n",
              "\n",
              "    const fileDataPromise = new Promise((resolve) => {\n",
              "      const reader = new FileReader();\n",
              "      reader.onload = (e) => {\n",
              "        resolve(e.target.result);\n",
              "      };\n",
              "      reader.readAsArrayBuffer(file);\n",
              "    });\n",
              "    // Wait for the data to be ready.\n",
              "    let fileData = yield {\n",
              "      promise: fileDataPromise,\n",
              "      response: {\n",
              "        action: 'continue',\n",
              "      }\n",
              "    };\n",
              "\n",
              "    // Use a chunked sending to avoid message size limits. See b/62115660.\n",
              "    let position = 0;\n",
              "    do {\n",
              "      const length = Math.min(fileData.byteLength - position, MAX_PAYLOAD_SIZE);\n",
              "      const chunk = new Uint8Array(fileData, position, length);\n",
              "      position += length;\n",
              "\n",
              "      const base64 = btoa(String.fromCharCode.apply(null, chunk));\n",
              "      yield {\n",
              "        response: {\n",
              "          action: 'append',\n",
              "          file: file.name,\n",
              "          data: base64,\n",
              "        },\n",
              "      };\n",
              "\n",
              "      let percentDone = fileData.byteLength === 0 ?\n",
              "          100 :\n",
              "          Math.round((position / fileData.byteLength) * 100);\n",
              "      percent.textContent = `${percentDone}% done`;\n",
              "\n",
              "    } while (position < fileData.byteLength);\n",
              "  }\n",
              "\n",
              "  // All done.\n",
              "  yield {\n",
              "    response: {\n",
              "      action: 'complete',\n",
              "    }\n",
              "  };\n",
              "}\n",
              "\n",
              "scope.google = scope.google || {};\n",
              "scope.google.colab = scope.google.colab || {};\n",
              "scope.google.colab._files = {\n",
              "  _uploadFiles,\n",
              "  _uploadFilesContinue,\n",
              "};\n",
              "})(self);\n",
              "</script> "
            ]
          },
          "metadata": {}
        },
        {
          "output_type": "stream",
          "name": "stdout",
          "text": [
            "Saving archive (2).zip to archive (2).zip\n",
            "Extraction complete. Files inside:\n",
            "['yes', 'brain_tumor_dataset', 'no']\n"
          ]
        }
      ],
      "source": [
        "from google.colab import files\n",
        "import zipfile, os\n",
        "\n",
        "# Step 1: Upload the zip file manually\n",
        "uploaded = files.upload()  # This will open a file picker\n",
        "\n",
        "# Step 2: Find the actual uploaded file name\n",
        "uploaded_filename = list(uploaded.keys())[0]  # Automatically get the uploaded file name\n",
        "zip_path = f\"/content/{uploaded_filename}\"\n",
        "extract_path = \"/content/brain_mri_dataset\"\n",
        "\n",
        "# Step 3: Extract the zip file\n",
        "with zipfile.ZipFile(zip_path, 'r') as zip_ref:\n",
        "    zip_ref.extractall(extract_path)\n",
        "\n",
        "# Step 4: List extracted contents to verify\n",
        "print(\"Extraction complete. Files inside:\")\n",
        "print(os.listdir(extract_path))\n"
      ]
    },
    {
      "cell_type": "markdown",
      "source": [
        "Load and Preprocess Images"
      ],
      "metadata": {
        "id": "jC6idvWKLdP-"
      }
    },
    {
      "cell_type": "code",
      "source": [
        "\n",
        "tumor_dir = os.path.join(extract_path, \"brain_tumor_dataset\", \"yes\")\n",
        "normal_dir = os.path.join(extract_path, \"brain_tumor_dataset\", \"no\")\n",
        "\n",
        "\n",
        "def load_images(folder, label, size=(64, 64)):\n",
        "    images, labels = [], []\n",
        "    for fname in os.listdir(folder):\n",
        "        path = os.path.join(folder, fname)\n",
        "        try:\n",
        "            img = Image.open(path).convert(\"L\").resize(size)\n",
        "            images.append(np.array(img))\n",
        "            labels.append(label)\n",
        "        except:\n",
        "            pass\n",
        "    return images, labels\n",
        "\n",
        "tumor_images, tumor_labels = load_images(tumor_dir, 1)\n",
        "normal_images, normal_labels = load_images(normal_dir, 0)\n",
        "\n",
        "all_images = np.array(tumor_images + normal_images)\n",
        "all_labels = np.array(tumor_labels + normal_labels)\n",
        "\n",
        "print(\"Image dataset shape:\", all_images.shape)\n",
        "print(\"Labels shape:\", all_labels.shape)\n"
      ],
      "metadata": {
        "colab": {
          "base_uri": "https://localhost:8080/"
        },
        "id": "Ean-2YpvLd6x",
        "outputId": "3f01b495-9adc-4f4f-f27e-8687ff4a0717"
      },
      "execution_count": 4,
      "outputs": [
        {
          "output_type": "stream",
          "name": "stdout",
          "text": [
            "Image dataset shape: (253, 64, 64)\n",
            "Labels shape: (253,)\n"
          ]
        }
      ]
    },
    {
      "cell_type": "markdown",
      "source": [
        "Feature Extraction using ResNet18"
      ],
      "metadata": {
        "id": "_qMUqeELLs0Y"
      }
    },
    {
      "cell_type": "code",
      "source": [
        "import torch\n",
        "from torchvision import models, transforms\n",
        "from PIL import Image\n",
        "import numpy as np\n",
        "import matplotlib.pyplot as plt\n",
        "from sklearn.manifold import TSNE\n",
        "\n",
        "# Define transform for ResNet18\n",
        "transform = transforms.Compose([\n",
        "    transforms.Resize((224, 224)),\n",
        "    transforms.Grayscale(num_output_channels=3),\n",
        "    transforms.ToTensor(),\n",
        "    transforms.Normalize(mean=[0.485, 0.456, 0.406],\n",
        "                         std=[0.229, 0.224, 0.225]),\n",
        "])\n",
        "\n",
        "# Load pretrained ResNet18\n",
        "resnet = models.resnet18(pretrained=True)\n",
        "resnet.fc = torch.nn.Identity()  # Remove final classification layer\n",
        "resnet.eval()\n",
        "\n",
        "# Function to extract features from all images\n",
        "def extract_resnet_features(images):\n",
        "    features = []\n",
        "    for img_array in images:\n",
        "        img_pil = Image.fromarray(img_array.astype(np.uint8))\n",
        "        img_tensor = transform(img_pil).unsqueeze(0)\n",
        "        with torch.no_grad():\n",
        "            feat = resnet(img_tensor).squeeze().numpy()\n",
        "        features.append(feat)\n",
        "    return np.array(features)\n",
        "\n",
        "# --- Your image data must be in `all_images` ---\n",
        "# Example (remove this if you already have real image data):\n",
        "# all_images = np.random.randint(0, 255, (50, 224, 224), dtype=np.uint8)\n",
        "\n",
        "# Step 1: Extract ResNet18 Features\n",
        "resnet_features = extract_resnet_features(all_images)\n",
        "print(\"ResNet18 Feature Shape:\", resnet_features.shape)\n",
        "\n",
        "# Step 2: Use t-SNE for 2D visualization\n",
        "tsne = TSNE(n_components=2, random_state=42, perplexity=30, n_iter=1000)\n",
        "features_2d = tsne.fit_transform(resnet_features)\n",
        "\n",
        "# Step 3: Plot the features\n",
        "plt.figure(figsize=(8, 6))\n",
        "plt.scatter(features_2d[:, 0], features_2d[:, 1], c='green', alpha=0.7)\n",
        "plt.title(\"t-SNE Visualization of ResNet18 Features\")\n",
        "plt.xlabel(\"t-SNE Dimension 1\")\n",
        "plt.ylabel(\"t-SNE Dimension 2\")\n",
        "plt.grid(True)\n",
        "plt.show()\n"
      ],
      "metadata": {
        "colab": {
          "base_uri": "https://localhost:8080/",
          "height": 711
        },
        "id": "zjjSwmN8Lth_",
        "outputId": "33d012b5-6fde-4603-ef78-006c7927d4f0"
      },
      "execution_count": 13,
      "outputs": [
        {
          "output_type": "stream",
          "name": "stderr",
          "text": [
            "/usr/local/lib/python3.11/dist-packages/torchvision/models/_utils.py:208: UserWarning: The parameter 'pretrained' is deprecated since 0.13 and may be removed in the future, please use 'weights' instead.\n",
            "  warnings.warn(\n",
            "/usr/local/lib/python3.11/dist-packages/torchvision/models/_utils.py:223: UserWarning: Arguments other than a weight enum or `None` for 'weights' are deprecated since 0.13 and may be removed in the future. The current behavior is equivalent to passing `weights=ResNet18_Weights.IMAGENET1K_V1`. You can also use `weights=ResNet18_Weights.DEFAULT` to get the most up-to-date weights.\n",
            "  warnings.warn(msg)\n"
          ]
        },
        {
          "output_type": "stream",
          "name": "stdout",
          "text": [
            "ResNet18 Feature Shape: (253, 512)\n"
          ]
        },
        {
          "output_type": "stream",
          "name": "stderr",
          "text": [
            "/usr/local/lib/python3.11/dist-packages/sklearn/manifold/_t_sne.py:1164: FutureWarning: 'n_iter' was renamed to 'max_iter' in version 1.5 and will be removed in 1.7.\n",
            "  warnings.warn(\n"
          ]
        },
        {
          "output_type": "display_data",
          "data": {
            "text/plain": [
              "<Figure size 800x600 with 1 Axes>"
            ],
            "image/png": "[encoded data removed]"
          },
          "metadata": {}
        }
      ]
    },
    {
      "cell_type": "markdown",
      "source": [
        "Define and Train the Autoencoder"
      ],
      "metadata": {
        "id": "TRpfTPcwMENu"
      }
    },
    {
      "cell_type": "code",
      "source": [
        "import torch.nn as nn\n",
        "import torch.optim as optim\n",
        "import torch\n",
        "import matplotlib.pyplot as plt\n",
        "\n",
        "# Define the autoencoder\n",
        "class Autoencoder(nn.Module):\n",
        "    def __init__(self):\n",
        "        super().__init__()\n",
        "        self.encoder = nn.Sequential(\n",
        "            nn.Linear(512, 256),\n",
        "            nn.ReLU(),\n",
        "            nn.Linear(256, 64),\n",
        "            nn.ReLU(),\n",
        "            nn.Linear(64, 5)\n",
        "        )\n",
        "        self.decoder = nn.Sequential(\n",
        "            nn.Linear(5, 64),\n",
        "            nn.ReLU(),\n",
        "            nn.Linear(64, 256),\n",
        "            nn.ReLU(),\n",
        "            nn.Linear(256, 512)\n",
        "        )\n",
        "\n",
        "    def forward(self, x):\n",
        "        encoded = self.encoder(x)\n",
        "        decoded = self.decoder(encoded)\n",
        "        return encoded, decoded\n",
        "\n",
        "# Initialize model, criterion, optimizer\n",
        "autoencoder = Autoencoder()\n",
        "resnet_tensor = torch.tensor(resnet_features, dtype=torch.float32)\n",
        "train_loader = torch.utils.data.DataLoader(resnet_tensor, batch_size=16, shuffle=True)\n",
        "\n",
        "criterion = nn.MSELoss()\n",
        "optimizer = optim.Adam(autoencoder.parameters(), lr=0.001)\n",
        "\n",
        "# Training loop with loss recording\n",
        "epochs = 50\n",
        "loss_values = []\n",
        "\n",
        "for epoch in range(epochs):\n",
        "    total_loss = 0\n",
        "    for batch in train_loader:\n",
        "        optimizer.zero_grad()\n",
        "        encoded, decoded = autoencoder(batch)\n",
        "        loss = criterion(decoded, batch)\n",
        "        loss.backward()\n",
        "        optimizer.step()\n",
        "        total_loss += loss.item()\n",
        "    avg_loss = total_loss / len(train_loader)\n",
        "    loss_values.append(avg_loss)\n",
        "    print(f\"Epoch {epoch+1}, Loss: {avg_loss:.4f}\")\n",
        "\n",
        "# Plotting the loss graph\n",
        "plt.figure(figsize=(8, 5))\n",
        "plt.plot(range(1, epochs + 1), loss_values, marker='o')\n",
        "plt.title(\"Autoencoder Training Loss Over Epochs\")\n",
        "plt.xlabel(\"Epoch\")\n",
        "plt.ylabel(\"Loss\")\n",
        "plt.grid(True)\n",
        "plt.tight_layout()\n",
        "plt.show()\n"
      ],
      "metadata": {
        "colab": {
          "base_uri": "https://localhost:8080/",
          "height": 1000
        },
        "id": "BXx6R3mbME5Q",
        "outputId": "500b2bd4-a8c3-4b08-b845-cdb8e4247b3d"
      },
      "execution_count": 14,
      "outputs": [
        {
          "output_type": "stream",
          "name": "stdout",
          "text": [
            "Epoch 1, Loss: 0.7707\n",
            "Epoch 2, Loss: 0.2825\n",
            "Epoch 3, Loss: 0.2397\n",
            "Epoch 4, Loss: 0.2336\n",
            "Epoch 5, Loss: 0.2325\n",
            "Epoch 6, Loss: 0.2326\n",
            "Epoch 7, Loss: 0.2323\n",
            "Epoch 8, Loss: 0.2316\n",
            "Epoch 9, Loss: 0.2321\n",
            "Epoch 10, Loss: 0.2313\n",
            "Epoch 11, Loss: 0.2301\n",
            "Epoch 12, Loss: 0.2293\n",
            "Epoch 13, Loss: 0.2265\n",
            "Epoch 14, Loss: 0.2179\n",
            "Epoch 15, Loss: 0.2038\n",
            "Epoch 16, Loss: 0.1961\n",
            "Epoch 17, Loss: 0.1927\n",
            "Epoch 18, Loss: 0.1904\n",
            "Epoch 19, Loss: 0.1879\n",
            "Epoch 20, Loss: 0.1837\n",
            "Epoch 21, Loss: 0.1778\n",
            "Epoch 22, Loss: 0.1726\n",
            "Epoch 23, Loss: 0.1685\n",
            "Epoch 24, Loss: 0.1634\n",
            "Epoch 25, Loss: 0.1600\n",
            "Epoch 26, Loss: 0.1548\n",
            "Epoch 27, Loss: 0.1520\n",
            "Epoch 28, Loss: 0.1494\n",
            "Epoch 29, Loss: 0.1475\n",
            "Epoch 30, Loss: 0.1448\n",
            "Epoch 31, Loss: 0.1425\n",
            "Epoch 32, Loss: 0.1406\n",
            "Epoch 33, Loss: 0.1386\n",
            "Epoch 34, Loss: 0.1366\n",
            "Epoch 35, Loss: 0.1344\n",
            "Epoch 36, Loss: 0.1325\n",
            "Epoch 37, Loss: 0.1317\n",
            "Epoch 38, Loss: 0.1296\n",
            "Epoch 39, Loss: 0.1279\n",
            "Epoch 40, Loss: 0.1271\n",
            "Epoch 41, Loss: 0.1259\n",
            "Epoch 42, Loss: 0.1255\n",
            "Epoch 43, Loss: 0.1228\n",
            "Epoch 44, Loss: 0.1217\n",
            "Epoch 45, Loss: 0.1208\n",
            "Epoch 46, Loss: 0.1211\n",
            "Epoch 47, Loss: 0.1189\n",
            "Epoch 48, Loss: 0.1169\n",
            "Epoch 49, Loss: 0.1155\n",
            "Epoch 50, Loss: 0.1142\n"
          ]
        },
        {
          "output_type": "display_data",
          "data": {
            "text/plain": [
              "<Figure size 800x500 with 1 Axes>"
            ],
            "image/png": "[encoded data removed]"
          },
          "metadata": {}
        }
      ]
    },
    {
      "cell_type": "markdown",
      "source": [
        "Extract 5D Compressed Features from Encoder"
      ],
      "metadata": {
        "id": "GZ8JUU0NOfzl"
      }
    },
    {
      "cell_type": "code",
      "source": [
        "\n",
        "autoencoder.eval()\n",
        "\n",
        "\n",
        "with torch.no_grad():\n",
        "    compressed_features = autoencoder.encoder(resnet_tensor).numpy()\n",
        "\n",
        "print(\"Compressed feature shape:\", compressed_features.shape)\n"
      ],
      "metadata": {
        "colab": {
          "base_uri": "https://localhost:8080/"
        },
        "id": "prbx4vFpOgmn",
        "outputId": "d5e15db5-d3de-4a9a-9a2a-dde852e4b7fd"
      },
      "execution_count": 7,
      "outputs": [
        {
          "output_type": "stream",
          "name": "stdout",
          "text": [
            "Compressed feature shape: (253, 5)\n"
          ]
        }
      ]
    },
    {
      "cell_type": "markdown",
      "source": [
        "Build and Train the QGNN (5-qubit Quantum Neural Network)"
      ],
      "metadata": {
        "id": "xT_yBLkDOp-N"
      }
    },
    {
      "cell_type": "code",
      "source": [
        "!pip install pennylane\n"
      ],
      "metadata": {
        "colab": {
          "base_uri": "https://localhost:8080/"
        },
        "id": "0J8dOfPqO66x",
        "outputId": "3b602a55-ff78-45bf-a4c7-f5cf818388af",
        "collapsed": true
      },
      "execution_count": 8,
      "outputs": [
        {
          "output_type": "stream",
          "name": "stdout",
          "text": [
            "Collecting pennylane\n",
            "  Downloading pennylane-0.42.1-py3-none-any.whl.metadata (11 kB)\n",
            "Requirement already satisfied: scipy in /usr/local/lib/python3.11/dist-packages (from pennylane) (1.16.1)\n",
            "Requirement already satisfied: networkx in /usr/local/lib/python3.11/dist-packages (from pennylane) (3.5)\n",
            "Collecting rustworkx>=0.14.0 (from pennylane)\n",
            "  Downloading rustworkx-0.16.0-cp39-abi3-manylinux_2_17_x86_64.manylinux2014_x86_64.whl.metadata (10 kB)\n",
            "Requirement already satisfied: autograd in /usr/local/lib/python3.11/dist-packages (from pennylane) (1.8.0)\n",
            "Collecting appdirs (from pennylane)\n",
            "  Downloading appdirs-1.4.4-py2.py3-none-any.whl.metadata (9.0 kB)\n",
            "Collecting autoray>=0.6.11 (from pennylane)\n",
            "  Downloading autoray-0.7.2-py3-none-any.whl.metadata (5.8 kB)\n",
            "Requirement already satisfied: cachetools in /usr/local/lib/python3.11/dist-packages (from pennylane) (5.5.2)\n",
            "Collecting pennylane-lightning>=0.42 (from pennylane)\n",
            "  Downloading pennylane_lightning-0.42.0-cp311-cp311-manylinux_2_28_x86_64.whl.metadata (11 kB)\n",
            "Requirement already satisfied: requests in /usr/local/lib/python3.11/dist-packages (from pennylane) (2.32.3)\n",
            "Requirement already satisfied: tomlkit in /usr/local/lib/python3.11/dist-packages (from pennylane) (0.13.3)\n",
            "Requirement already satisfied: typing_extensions in /usr/local/lib/python3.11/dist-packages (from pennylane) (4.14.1)\n",
            "Requirement already satisfied: packaging in /usr/local/lib/python3.11/dist-packages (from pennylane) (25.0)\n",
            "Collecting diastatic-malt (from pennylane)\n",
            "  Downloading diastatic_malt-2.15.2-py3-none-any.whl.metadata (2.6 kB)\n",
            "Requirement already satisfied: numpy in /usr/local/lib/python3.11/dist-packages (from pennylane) (2.0.2)\n",
            "Collecting scipy-openblas32>=0.3.26 (from pennylane-lightning>=0.42->pennylane)\n",
            "  Downloading scipy_openblas32-0.3.30.0.2-py3-none-manylinux2014_x86_64.manylinux_2_17_x86_64.whl.metadata (57 kB)\n",
            "\u001b[2K     \u001b[90m━━━━━━━━━━━━━━━━━━━━━━━━━━━━━━━━━━━━━━━━\u001b[0m \u001b[32m57.1/57.1 kB\u001b[0m \u001b[31m2.0 MB/s\u001b[0m eta \u001b[36m0:00:00\u001b[0m\n",
            "\u001b[?25hRequirement already satisfied: astunparse in /usr/local/lib/python3.11/dist-packages (from diastatic-malt->pennylane) (1.6.3)\n",
            "Requirement already satisfied: gast in /usr/local/lib/python3.11/dist-packages (from diastatic-malt->pennylane) (0.6.0)\n",
            "Requirement already satisfied: termcolor in /usr/local/lib/python3.11/dist-packages (from diastatic-malt->pennylane) (3.1.0)\n",
            "Requirement already satisfied: charset-normalizer<4,>=2 in /usr/local/lib/python3.11/dist-packages (from requests->pennylane) (3.4.2)\n",
            "Requirement already satisfied: idna<4,>=2.5 in /usr/local/lib/python3.11/dist-packages (from requests->pennylane) (3.10)\n",
            "Requirement already satisfied: urllib3<3,>=1.21.1 in /usr/local/lib/python3.11/dist-packages (from requests->pennylane) (2.5.0)\n",
            "Requirement already satisfied: certifi>=2017.4.17 in /usr/local/lib/python3.11/dist-packages (from requests->pennylane) (2025.7.14)\n",
            "Requirement already satisfied: wheel<1.0,>=0.23.0 in /usr/local/lib/python3.11/dist-packages (from astunparse->diastatic-malt->pennylane) (0.45.1)\n",
            "Requirement already satisfied: six<2.0,>=1.6.1 in /usr/local/lib/python3.11/dist-packages (from astunparse->diastatic-malt->pennylane) (1.17.0)\n",
            "Downloading pennylane-0.42.1-py3-none-any.whl (4.8 MB)\n",
            "\u001b[2K   \u001b[90m━━━━━━━━━━━━━━━━━━━━━━━━━━━━━━━━━━━━━━━━\u001b[0m \u001b[32m4.8/4.8 MB\u001b[0m \u001b[31m51.4 MB/s\u001b[0m eta \u001b[36m0:00:00\u001b[0m\n",
            "\u001b[?25hDownloading autoray-0.7.2-py3-none-any.whl (930 kB)\n",
            "\u001b[2K   \u001b[90m━━━━━━━━━━━━━━━━━━━━━━━━━━━━━━━━━━━━━━━━\u001b[0m \u001b[32m930.8/930.8 kB\u001b[0m \u001b[31m43.3 MB/s\u001b[0m eta \u001b[36m0:00:00\u001b[0m\n",
            "\u001b[?25hDownloading pennylane_lightning-0.42.0-cp311-cp311-manylinux_2_28_x86_64.whl (2.6 MB)\n",
            "\u001b[2K   \u001b[90m━━━━━━━━━━━━━━━━━━━━━━━━━━━━━━━━━━━━━━━━\u001b[0m \u001b[32m2.6/2.6 MB\u001b[0m \u001b[31m70.9 MB/s\u001b[0m eta \u001b[36m0:00:00\u001b[0m\n",
            "\u001b[?25hDownloading rustworkx-0.16.0-cp39-abi3-manylinux_2_17_x86_64.manylinux2014_x86_64.whl (2.1 MB)\n",
            "\u001b[2K   \u001b[90m━━━━━━━━━━━━━━━━━━━━━━━━━━━━━━━━━━━━━━━━\u001b[0m \u001b[32m2.1/2.1 MB\u001b[0m \u001b[31m67.5 MB/s\u001b[0m eta \u001b[36m0:00:00\u001b[0m\n",
            "\u001b[?25hDownloading appdirs-1.4.4-py2.py3-none-any.whl (9.6 kB)\n",
            "Downloading diastatic_malt-2.15.2-py3-none-any.whl (167 kB)\n",
            "\u001b[2K   \u001b[90m━━━━━━━━━━━━━━━━━━━━━━━━━━━━━━━━━━━━━━━━\u001b[0m \u001b[32m167.9/167.9 kB\u001b[0m \u001b[31m10.6 MB/s\u001b[0m eta \u001b[36m0:00:00\u001b[0m\n",
            "\u001b[?25hDownloading scipy_openblas32-0.3.30.0.2-py3-none-manylinux2014_x86_64.manylinux_2_17_x86_64.whl (8.6 MB)\n",
            "\u001b[2K   \u001b[90m━━━━━━━━━━━━━━━━━━━━━━━━━━━━━━━━━━━━━━━━\u001b[0m \u001b[32m8.6/8.6 MB\u001b[0m \u001b[31m97.6 MB/s\u001b[0m eta \u001b[36m0:00:00\u001b[0m\n",
            "\u001b[?25hInstalling collected packages: appdirs, scipy-openblas32, rustworkx, autoray, diastatic-malt, pennylane-lightning, pennylane\n",
            "Successfully installed appdirs-1.4.4 autoray-0.7.2 diastatic-malt-2.15.2 pennylane-0.42.1 pennylane-lightning-0.42.0 rustworkx-0.16.0 scipy-openblas32-0.3.30.0.2\n"
          ]
        }
      ]
    },
    {
      "cell_type": "code",
      "source": [
        "import pennylane as qml\n",
        "import torch.nn as nn\n",
        "\n",
        "\n",
        "n_qubits = 5\n",
        "dev = qml.device(\"default.qubit\", wires=n_qubits)\n",
        "\n",
        "\n",
        "@qml.qnode(dev, interface=\"torch\")\n",
        "def quantum_circuit(inputs, weights):\n",
        "    for i in range(n_qubits):\n",
        "        qml.RY(inputs[i], wires=i)\n",
        "\n",
        "    for i in range(n_qubits):\n",
        "        qml.Rot(*weights[i], wires=i)\n",
        "\n",
        "    return [qml.expval(qml.PauliZ(i)) for i in range(n_qubits)]\n",
        "\n",
        "\n",
        "weight_shapes = {\"weights\": (n_qubits, 3)}\n"
      ],
      "metadata": {
        "id": "69ajras1OuCP"
      },
      "execution_count": 9,
      "outputs": []
    },
    {
      "cell_type": "code",
      "source": [
        "\n",
        "qlayer = qml.qnn.TorchLayer(quantum_circuit, weight_shapes)\n",
        "\n",
        "\n",
        "class QGNN(nn.Module):\n",
        "    def __init__(self):\n",
        "        super().__init__()\n",
        "        self.quantum = qlayer\n",
        "        self.classifier = nn.Sequential(\n",
        "            nn.Linear(n_qubits, 1),\n",
        "            nn.Sigmoid()\n",
        "        )\n",
        "\n",
        "    def forward(self, x):\n",
        "        x = self.quantum(x)\n",
        "        return self.classifier(x)\n"
      ],
      "metadata": {
        "id": "IjCWnN3-PHxg"
      },
      "execution_count": 10,
      "outputs": []
    },
    {
      "cell_type": "code",
      "source": [
        "from sklearn.model_selection import train_test_split\n",
        "\n",
        "X = compressed_features\n",
        "y = all_labels\n",
        "\n",
        "# Train-test split\n",
        "X_train, X_test, y_train, y_test = train_test_split(X, y, test_size=0.2, random_state=42)\n",
        "\n",
        "X_train_tensor = torch.tensor(X_train, dtype=torch.float32)\n",
        "y_train_tensor = torch.tensor(y_train, dtype=torch.float32).unsqueeze(1)\n",
        "X_test_tensor = torch.tensor(X_test, dtype=torch.float32)\n",
        "y_test_tensor = torch.tensor(y_test, dtype=torch.float32).unsqueeze(1)\n"
      ],
      "metadata": {
        "id": "4_p0LUHQPNxE"
      },
      "execution_count": 11,
      "outputs": []
    },
    {
      "cell_type": "markdown",
      "source": [
        "Train the QGNN Model"
      ],
      "metadata": {
        "id": "J1yoQqSJPZPw"
      }
    },
    {
      "cell_type": "code",
      "source": [
        "import torch.optim as optim\n",
        "\n",
        "\n",
        "model = QGNN()\n",
        "criterion = nn.BCELoss()\n",
        "optimizer = optim.Adam(model.parameters(), lr=0.01)\n",
        "\n",
        "epochs = 20\n",
        "for epoch in range(epochs):\n",
        "    model.train()\n",
        "    total_loss = 0\n",
        "    correct = 0\n",
        "\n",
        "    for i in range(len(X_train_tensor)):\n",
        "        x_sample = X_train_tensor[i]\n",
        "        y_sample = y_train_tensor[i].unsqueeze(0)\n",
        "\n",
        "        optimizer.zero_grad()\n",
        "        output = model(x_sample).unsqueeze(0)\n",
        "        loss = criterion(output, y_sample)\n",
        "        loss.backward()\n",
        "        optimizer.step()\n",
        "\n",
        "        total_loss += loss.item()\n",
        "        pred = (output > 0.5).float()\n",
        "        correct += (pred == y_sample).sum().item()\n",
        "\n",
        "    acc = correct / len(X_train_tensor)\n",
        "    print(f\"Epoch {epoch+1}: Loss={total_loss:.4f}, Accuracy={acc*100:.2f}%\")\n"
      ],
      "metadata": {
        "colab": {
          "base_uri": "https://localhost:8080/"
        },
        "collapsed": true,
        "id": "EMA-FgjaPZ5P",
        "outputId": "824b6a98-57ff-4506-c3d4-cb4b69383ed5"
      },
      "execution_count": 12,
      "outputs": [
        {
          "output_type": "stream",
          "name": "stdout",
          "text": [
            "Epoch 1: Loss=121.1985, Accuracy=68.32%\n",
            "Epoch 2: Loss=104.9141, Accuracy=75.25%\n",
            "Epoch 3: Loss=101.8702, Accuracy=77.72%\n",
            "Epoch 4: Loss=100.6073, Accuracy=77.72%\n",
            "Epoch 5: Loss=99.9053, Accuracy=77.23%\n",
            "Epoch 6: Loss=99.4936, Accuracy=77.23%\n",
            "Epoch 7: Loss=99.2495, Accuracy=77.23%\n",
            "Epoch 8: Loss=99.1033, Accuracy=77.23%\n",
            "Epoch 9: Loss=99.0139, Accuracy=77.72%\n",
            "Epoch 10: Loss=98.9577, Accuracy=77.72%\n",
            "Epoch 11: Loss=98.9212, Accuracy=77.72%\n",
            "Epoch 12: Loss=98.8968, Accuracy=78.22%\n",
            "Epoch 13: Loss=98.8855, Accuracy=78.22%\n",
            "Epoch 14: Loss=98.8705, Accuracy=78.22%\n",
            "Epoch 15: Loss=98.8588, Accuracy=78.22%\n",
            "Epoch 16: Loss=98.8517, Accuracy=78.22%\n",
            "Epoch 17: Loss=98.8463, Accuracy=78.22%\n",
            "Epoch 18: Loss=98.8419, Accuracy=78.22%\n",
            "Epoch 19: Loss=98.8385, Accuracy=78.22%\n",
            "Epoch 20: Loss=98.8357, Accuracy=78.22%\n"
          ]
        }
      ]
    }
  ]
}